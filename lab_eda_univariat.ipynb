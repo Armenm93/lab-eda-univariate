{
 "cells": [
  {
   "cell_type": "code",
   "execution_count": null,
   "id": "568176f3-10b7-4bc4-95f3-dbd0af3d9591",
   "metadata": {},
   "outputs": [],
   "source": [
    "#part 1: 1.\n",
    "\n",
    "import pandas as pd\n",
    "\n",
    "# Load the dataset\n",
    "data_path = \"desktop/ironhack/week_4_eda/amz_uk_price_prediction_dataset.csv\"\n",
    "df = pd.read_csv(data_path)\n",
    "\n",
    "# Generate frequency table for product category\n",
    "category_frequency = df['category'].value_counts()\n",
    "\n",
    "# Display the frequency table\n",
    "print(\"Frequency Table for Product Categories:\")\n",
    "print(category_frequency)\n",
    "\n",
    "# Get the top 5 most listed product categories\n",
    "top_categories = category_frequency.head(5)\n",
    "\n",
    "# Display the top 5 most listed product categories\n",
    "print(\"Top 5 Most Listed Product Categories:\")\n",
    "print(top_categories)"
   ]
  },
  {
   "cell_type": "code",
   "execution_count": null,
   "id": "05b967b5-9f75-4f89-b764-c4a2d93bf595",
   "metadata": {},
   "outputs": [],
   "source": [
    "#part 1: 2.\n",
    "\n",
    "import matplotlib.pyplot as plt\n",
    "import seaborn as sns\n",
    "\n",
    "# Bar chart\n",
    "plt.figure(figsize=(12, 6))\n",
    "sns.countplot(data=df, y='category', order=category_freq.index, palette=\"viridis\")\n",
    "plt.title('Distribution of Product Categories')\n",
    "plt.show()\n",
    "\n",
    "# Pie chart for top 5 categories\n",
    "top_categories = category_freq.head(5)\n",
    "top_categories.plot.pie(autopct='%1.1f%%', startangle=90, colors=sns.color_palette(\"viridis\", 5))\n",
    "plt.title('Top 5 Product Categories')\n",
    "plt.ylabel('')\n",
    "plt.show()\n",
    "\n",
    "# To do - just show top categories in countplot"
   ]
  },
  {
   "cell_type": "code",
   "execution_count": null,
   "id": "6711a635-fe7b-4fa3-8967-369e2d91fdc7",
   "metadata": {},
   "outputs": [],
   "source": [
    "##Interpretation for Part 1: Understanding Product Categories**\n",
    "\n",
    "The most popular product categories on Amazon UK, based on listing frequency, are as follows:\n",
    "\n",
    "1. **Sports & Outdoors** with 836,265 listings, overwhelmingly dominates the platform.\n",
    "2. **Beauty** with 19,312 listings.\n",
    "3. **Handmade Clothing, Shoes & Accessories** with 19,229 listings.\n",
    "4. **Bath & Body** with 19,092 listings.\n",
    "5. **Birthday Gifts** with 18,978 listings.\n",
    "\n",
    "Clearly, \"Sports & Outdoors\" stands out as the most listed category by a significant margin. The other categories in the top 5 have comparable numbers of listings, but they pale in comparison to \"Sports & Outdoors.\"\n",
    "\n",
    "Given the vast difference between the first category and the rest, sellers dealing in \"Sports & Outdoors\" products might face higher competition on Amazon UK. At the same time, the sheer volume suggests a potential high demand in this category."
   ]
  },
  {
   "cell_type": "code",
   "execution_count": 2,
   "id": "f9b86be7-4344-40f2-b8b5-239e1b065dfa",
   "metadata": {},
   "outputs": [],
   "source": [
    "#measures of centratility\n",
    "\n",
    "mean_price = df['price'].mean()\n",
    "median_price = df['price'].median()\n",
    "mode_price = df['price'].mode()[0]\n",
    "\n",
    "mean_price, median_price, mode_price"
   ]
  },
  {
   "cell_type": "code",
   "execution_count": 3,
   "id": "5149ef4a-bfbe-401c-9f5f-28eaaffe0176",
   "metadata": {
    "tags": []
   },
   "outputs": [
    {
     "ename": "NameError",
     "evalue": "name 'df' is not defined",
     "output_type": "error",
     "traceback": [
      "\u001b[0;31m---------------------------------------------------------------------------\u001b[0m",
      "\u001b[0;31mNameError\u001b[0m                                 Traceback (most recent call last)",
      "Cell \u001b[0;32mIn[3], line 2\u001b[0m\n\u001b[1;32m      1\u001b[0m \u001b[38;5;66;03m#measures of desruptionvariance_price = df['price'].var()\u001b[39;00m\n\u001b[0;32m----> 2\u001b[0m std_dev_price \u001b[38;5;241m=\u001b[39m df[\u001b[38;5;124m'\u001b[39m\u001b[38;5;124mprice\u001b[39m\u001b[38;5;124m'\u001b[39m]\u001b[38;5;241m.\u001b[39mstd()\n\u001b[1;32m      3\u001b[0m min_price \u001b[38;5;241m=\u001b[39m df[\u001b[38;5;124m'\u001b[39m\u001b[38;5;124mprice\u001b[39m\u001b[38;5;124m'\u001b[39m]\u001b[38;5;241m.\u001b[39mmin()\n\u001b[1;32m      4\u001b[0m max_price \u001b[38;5;241m=\u001b[39m df[\u001b[38;5;124m'\u001b[39m\u001b[38;5;124mprice\u001b[39m\u001b[38;5;124m'\u001b[39m]\u001b[38;5;241m.\u001b[39mmax()\n",
      "\u001b[0;31mNameError\u001b[0m: name 'df' is not defined"
     ]
    }
   ],
   "source": [
    "#measures of desruption\n",
    "\n",
    "variance_price = df['price'].var()\n",
    "std_dev_price = df['price'].std()\n",
    "min_price = df['price'].min()\n",
    "max_price = df['price'].max()\n",
    "q1 = df['price'].quantile(0.25)\n",
    "q3 = df['price'].quantile(0.75)\n",
    "iqr = df['price'].quantile(0.75) - df['price'].quantile(0.25)\n",
    "\n",
    "variance_price, std_dev_price, min_price, max_price, q1, q3, iqr"
   ]
  },
  {
   "cell_type": "code",
   "execution_count": null,
   "id": "d09edd27-ecc0-4984-b251-840734c35a96",
   "metadata": {},
   "outputs": [],
   "source": [
    "##Interpretation**:\n",
    "\n",
    "- The average (mean) price of products listed on Amazon UK is approximately £89.24.\n",
    "- The median price of the products (the middle value when sorted) is £19.09. This is notably lower than the mean, suggesting that there are several high-priced items skewing the average upwards.\n",
    "- The lowest priced item(s) on Amazon UK are available for free (or £0.00, which might indicate certain promotional products or digital products).\n",
    "- The highest priced item is listed at £100,000. This indicates the presence of some luxury or niche items on the platform.\n",
    "- The interquartile range (25% to 75% percentile) shows that 50% of the products on Amazon UK are priced between £9.99 and £45.99. This gives a sense of the typical price range for a majority of products.\n",
    "  \n",
    "From a business perspective, it's clear that while Amazon UK does cater to premium segments, a significant portion of its product listings are more affordably priced, making it accessible to a broader customer base.\n",
    "\n",
    "Now, let's visually represent the distribution of product prices using histograms and box plots."
   ]
  },
  {
   "cell_type": "code",
   "execution_count": null,
   "id": "560bc70a-5872-4350-aa74-2ee3d231360d",
   "metadata": {},
   "outputs": [],
   "source": [
    "# Histogram for product prices\n",
    "plt.figure(figsize=(10, 6))\n",
    "sns.histplot(data = df['price'], bins=30, kde=True, color=\"skyblue\")\n",
    "plt.title('Distribution of Product Prices')\n",
    "plt.show()\n",
    "\n",
    "# Boxplot for product prices\n",
    "plt.figure(figsize=(8, 6))\n",
    "sns.boxplot(data = df['price'], color=\"lightblue\")\n",
    "plt.title('Box Plot of Product Prices')\n",
    "plt.show()"
   ]
  },
  {
   "cell_type": "code",
   "execution_count": null,
   "id": "1bac8129-621c-4eb4-8d41-c91ba51952c6",
   "metadata": {},
   "outputs": [],
   "source": [
    "##Both histograms and boxplots are really hard to read due to huge outliers.\n",
    "\n",
    "\n",
    "##In conclusion, while most products on Amazon UK are priced within a lower range (as seen from the statistics above), there are a few products that are priced significantly higher, which can be considered outliers."
   ]
  },
  {
   "cell_type": "code",
   "execution_count": null,
   "id": "edb43200-cb91-446e-9990-61c02fe2f44a",
   "metadata": {},
   "outputs": [],
   "source": [
    "##part 3\n",
    "mean_rating = df['stars'].mean()\n",
    "median_rating = df['stars'].median()\n",
    "mode_rating = df['stars'].mode()[0]\n",
    "\n",
    "mean_rating, median_rating, mode_rating"
   ]
  },
  {
   "cell_type": "code",
   "execution_count": null,
   "id": "5b7dc060-fd47-4fbd-871c-12ab676b9933",
   "metadata": {},
   "outputs": [],
   "source": [
    "##Here are the measures of centrality for the product ratings:\n",
    "\n",
    "##1. **Mean Rating**: Approximately \\(2.15\\)\n",
    "##2. **Median Rating**: \\(0.0\\)\n",
    "##3. **Mode (Most Common Rating)**: \\(0.0\\)\n",
    "\n",
    "##The results are intriguing. While the mean rating is a bit above 2, both the median and mode are 0. This suggests that there is a large number of products with a rating of 0. This could possibly indicate products that haven't received any ratings yet or products for which ratings are unavailable. "
   ]
  },
  {
   "cell_type": "code",
   "execution_count": null,
   "id": "a6385392-9405-4faa-af25-ce60f65b42cf",
   "metadata": {},
   "outputs": [],
   "source": [
    "variance_rating = df['stars'].var()\n",
    "std_dev_rating = df['stars'].std()\n",
    "iqr_rating = df['stars'].quantile(0.75) - df['stars'].quantile(0.25)\n",
    "\n",
    "variance_rating, std_dev_rating, iqr_rating"
   ]
  },
  {
   "cell_type": "code",
   "execution_count": null,
   "id": "8f9964e6-faf0-4525-88a5-3323f542e960",
   "metadata": {},
   "outputs": [],
   "source": [
    "###Here are the measures of dispersion for the product ratings:\n",
    "#1. **Variance**: Approximately \\(4.82\\)\n",
    "#2. **Standard Deviation**: Approximately \\(2.19\\)\n",
    "#3. **Interquartile Range (IQR)**: \\(4.4\\)\n",
    "\n",
    "#The relatively high standard deviation suggests that the ratings are spread out from the mean. The IQR indicates that the middle 50% of ratings span a range of 4.4 stars, which is quite a broad range, indicating a wide variation in customer feedback."
   ]
  },
  {
   "cell_type": "code",
   "execution_count": null,
   "id": "de218112-061c-448d-9e86-fc9a917a80d8",
   "metadata": {},
   "outputs": [],
   "source": [
    "skewness_rating = df['stars'].skew()\n",
    "kurtosis_rating = df['stars'].kurtosis()\n",
    "\n",
    "skewness_rating, kurtosis_rating\n"
   ]
  },
  {
   "cell_type": "code",
   "execution_count": null,
   "id": "53d6f39d-d64b-47d8-a642-c8b5c531fd75",
   "metadata": {},
   "outputs": [],
   "source": [
    "#Here are the measures related to the shape of the distribution for product ratings:\n",
    "\n",
    "#1. **Skewness**: Approximately \\(0.0812\\)\n",
    "   - This value is close to 0, suggesting that the distribution is approximately symmetric around the mean. \n",
    "#2. **Kurtosis**: Approximately \\(-1.926\\)\n",
    " #  - This negative value indicates that the distribution has lighter tails and a flatter peak compared to a normal distribution. It's termed as \"platykurtic\"."
   ]
  },
  {
   "cell_type": "code",
   "execution_count": null,
   "id": "f9513f97-07b9-4798-a4ee-7cba48a4d353",
   "metadata": {},
   "outputs": [],
   "source": [
    "# Histogram for product ratings\n",
    "plt.figure(figsize=(10, 6))\n",
    "sns.histplot(data = df['stars'], bins=20, kde=True, color=\"skyblue\")\n",
    "plt.title('Distribution of Product Ratings')\n",
    "plt.show()"
   ]
  },
  {
   "cell_type": "code",
   "execution_count": null,
   "id": "7e4dcbac-7e0c-4bda-9de4-201693abc062",
   "metadata": {},
   "outputs": [],
   "source": [
    "#From the visualizations, we can infer the following:\n",
    "\n",
    "#**Histogram**:\n",
    "#1. A large number of products have a rating of 0, which confirms our earlier observation. These could be products without any reviews or ratings.\n",
    "#2. Among products with ratings, there seems to be a trend of higher ratings (around 4 to 5 stars) being more common.\n"
   ]
  }
 ],
 "metadata": {
  "kernelspec": {
   "display_name": "Python 3 (ipykernel)",
   "language": "python",
   "name": "python3"
  },
  "language_info": {
   "codemirror_mode": {
    "name": "ipython",
    "version": 3
   },
   "file_extension": ".py",
   "mimetype": "text/x-python",
   "name": "python",
   "nbconvert_exporter": "python",
   "pygments_lexer": "ipython3",
   "version": "3.11.5"
  }
 },
 "nbformat": 4,
 "nbformat_minor": 5
}
